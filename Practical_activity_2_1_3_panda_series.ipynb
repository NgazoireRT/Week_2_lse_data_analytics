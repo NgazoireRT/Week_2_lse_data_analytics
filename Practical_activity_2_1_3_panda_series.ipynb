{
 "cells": [
  {
   "cell_type": "code",
   "execution_count": null,
   "id": "def96d14",
   "metadata": {},
   "outputs": [],
   "source": [
    "# SCENARIO\n",
    "\n",
    "\"\"\"Shen Lee is a senior manager at Westside Hospital in Australia where she leads a team of data analysts. \n",
    "The team is responsible for publishing quarterly safety reports based on medical incidents that are documented by \n",
    "the hospital staff. Incidents could include a patient slipping on a wet floor, equipment malfunctioning, \n",
    "or even human errors such as incorrect placement of needles when injecting patients.\n",
    "\n",
    "The reports must include the emergency number that was called, the emergency protocols followed, \n",
    "and a list of actions taken if the incident required emergency intervention. This same information is included \n",
    "for every incident and published every quarter. Shen Lee will be automating the process of analysing the incident \n",
    "reports, with the ultimate goal of automatically generating the quarterly report to improve safety across the \n",
    "hospital.\"\"\"\n",
    "\n"
   ]
  },
  {
   "cell_type": "code",
   "execution_count": 1,
   "id": "3bebddf6",
   "metadata": {},
   "outputs": [],
   "source": [
    "# Objective is to creat 3 lists in python using Panda Series functions. \n",
    "\n",
    "# Import the Pandas library. - Step 1 \n",
    "\n",
    "import pandas as pd"
   ]
  },
  {
   "cell_type": "code",
   "execution_count": 4,
   "id": "5289c622",
   "metadata": {},
   "outputs": [
    {
     "name": "stdout",
     "output_type": "stream",
     "text": [
      "123               Law Enforcement\n",
      "224               Fire and Rescue\n",
      "101    Emergency Medical Services\n",
      "999          Emergency Management\n",
      "900                  Public Works\n",
      "dtype: object\n"
     ]
    }
   ],
   "source": [
    "# Emergency numbers: Law Enforcement (123), Fire and Rescue (224),\n",
    "# Emergency Medical Services (101), Emergency Management (999), and Public Works (900).\n",
    "\n",
    "# create a dictionary\n",
    "\n",
    "dict_1 = {'123':'Law Enforcement',\n",
    "       '224': 'Fire and Rescue',\n",
    "       '101': 'Emergency Medical Services',\n",
    "       '999': 'Emergency Management',\n",
    "       '900': 'Public Works'}\n",
    "\n",
    "# Create series \n",
    "\n",
    "emergency_numbers = pd.Series(dict_1)\n",
    "\n",
    "print(emergency_numbers)\n",
    "\n"
   ]
  },
  {
   "cell_type": "code",
   "execution_count": 9,
   "id": "dc35c6d8",
   "metadata": {},
   "outputs": [
    {
     "name": "stdout",
     "output_type": "stream",
     "text": [
      "1      Prevention\n",
      "2      Mitigation\n",
      "3    Preparedness\n",
      "4        Response\n",
      "5        Recovery\n",
      "dtype: object\n"
     ]
    }
   ],
   "source": [
    "# Emergency Protocoals: Prevention, mitigation, preparedness, response, and recovery \n",
    "\n",
    "# create a numbered list\n",
    "\n",
    "emergency_protocols = pd.Series(['Prevention','Mitigation','Preparedness','Response','Recovery'],\n",
    "                                index = ['1','2','3','4','5'])\n",
    "    \n",
    "print(emergency_protocols)"
   ]
  },
  {
   "cell_type": "code",
   "execution_count": 8,
   "id": "d0442fe5",
   "metadata": {},
   "outputs": [
    {
     "name": "stdout",
     "output_type": "stream",
     "text": [
      "0                    Check carotid pusle (neck)\n",
      "1                        Check breathing (nose)\n",
      "2    Check for obstructions (nose, ears, mouth)\n",
      "3                     Check pupils (responsive)\n",
      "4                                 Consciousness\n",
      "5                               Contact details\n",
      "6                                 Any allergies\n",
      "dtype: object\n"
     ]
    }
   ],
   "source": [
    "# Emergency checklist: Check pusle (neck), breathing (nose),\n",
    "# obstructions (nose, ears, mouth), pupuls (responsive),\n",
    "# consciousness, contact details, and allergies.\n",
    "\n",
    "# Creat a Series from a list\n",
    "\n",
    "checklist = ['Check carotid pusle (neck)', 'Check breathing (nose)', 'Check for obstructions (nose, ears, mouth)',\n",
    "             'Check pupils (responsive)', 'Consciousness', 'Contact details', 'Any allergies']\n",
    "\n",
    "emergency_checklist = pd.Series(checklist)\n",
    "\n",
    "print(emergency_checklist)"
   ]
  },
  {
   "cell_type": "code",
   "execution_count": 17,
   "id": "38ef0eba",
   "metadata": {},
   "outputs": [
    {
     "name": "stdout",
     "output_type": "stream",
     "text": [
      "robert takenzire\n",
      "04/07/2023\n"
     ]
    }
   ],
   "source": [
    "name = 'robert takenzire'\n",
    "date = '04/07/2023'\n",
    "\n",
    "print(name)\n",
    "print(date)"
   ]
  },
  {
   "cell_type": "code",
   "execution_count": null,
   "id": "e22424d0",
   "metadata": {},
   "outputs": [],
   "source": []
  }
 ],
 "metadata": {
  "kernelspec": {
   "display_name": "Python 3 (ipykernel)",
   "language": "python",
   "name": "python3"
  },
  "language_info": {
   "codemirror_mode": {
    "name": "ipython",
    "version": 3
   },
   "file_extension": ".py",
   "mimetype": "text/x-python",
   "name": "python",
   "nbconvert_exporter": "python",
   "pygments_lexer": "ipython3",
   "version": "3.10.9"
  }
 },
 "nbformat": 4,
 "nbformat_minor": 5
}
