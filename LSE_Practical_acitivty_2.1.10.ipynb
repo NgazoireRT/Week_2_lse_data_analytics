{
 "cells": [
  {
   "cell_type": "raw",
   "id": "0c1f183d",
   "metadata": {},
   "source": [
    "Canopy is a new boutique streaming company that is looking to create an app to provide recommendations for each user based on its recently watched movies. Canopy has asked that you help its team to analyse the data, and the first step in any analysis is data ingestion. You have access to the data sets movies.xlsx and ott.csv from Canopy. \n",
    "\n",
    "Objective\n",
    "Throughout this module, you’ll work on the Canopy case study. To get started with the analysis, you’ll need to take the following steps:\n",
    "\n",
    "Import the files into a DataFrame.\n",
    "Describe the DataFrame to understand the data structure, the values in different rows and columns, and the data types it entails. "
   ]
  },
  {
   "cell_type": "code",
   "execution_count": 2,
   "id": "9888e196",
   "metadata": {},
   "outputs": [
    {
     "name": "stdout",
     "output_type": "stream",
     "text": [
      "                                Title  Year  Age  IMDb  Rotten Tomatoes  \\\n",
      "0                           Inception  2010  13+   8.8             0.87   \n",
      "1                          The Matrix  1999  18+   8.7             0.87   \n",
      "2              Avengers: Infinity War  2018  13+   8.5             0.84   \n",
      "3                  Back to the Future  1985   7+   8.5             0.96   \n",
      "4      The Good, the Bad and the Ugly  1966  18+   8.8             0.97   \n",
      "...                               ...   ...  ...   ...              ...   \n",
      "16739       The Ghosts of Buxley Hall  1980  NaN   6.2              NaN   \n",
      "16740                  The Poof Point  2001   7+   4.7              NaN   \n",
      "16741           Sharks of Lost Island  2013  NaN   5.7              NaN   \n",
      "16742              Man Among Cheetahs  2017  NaN   6.6              NaN   \n",
      "16743                In Beaver Valley  1950  NaN   NaN              NaN   \n",
      "\n",
      "                            Directors                            Genres  \\\n",
      "0                   Christopher Nolan  Action,Adventure,Sci-Fi,Thriller   \n",
      "1      Lana Wachowski,Lilly Wachowski                     Action,Sci-Fi   \n",
      "2             Anthony Russo,Joe Russo           Action,Adventure,Sci-Fi   \n",
      "3                     Robert Zemeckis           Adventure,Comedy,Sci-Fi   \n",
      "4                        Sergio Leone                           Western   \n",
      "...                               ...                               ...   \n",
      "16739                    Bruce Bilson      Comedy,Family,Fantasy,Horror   \n",
      "16740                     Neal Israel              Comedy,Family,Sci-Fi   \n",
      "16741                    Neil Gelinas                       Documentary   \n",
      "16742            Richard Slater-Jones                       Documentary   \n",
      "16743                     James Algar          Documentary,Short,Family   \n",
      "\n",
      "                            Country                 Language  Runtime  \n",
      "0      United States,United Kingdom  English,Japanese,French    148.0  \n",
      "1                     United States                  English    136.0  \n",
      "2                     United States                  English    149.0  \n",
      "3                     United States                  English    116.0  \n",
      "4          Italy,Spain,West Germany                  Italian    161.0  \n",
      "...                             ...                      ...      ...  \n",
      "16739                 United States                  English    120.0  \n",
      "16740                 United States                  English     90.0  \n",
      "16741                 United States                  English      NaN  \n",
      "16742                 United States                  English      NaN  \n",
      "16743                 United States                  English     32.0  \n",
      "\n",
      "[16744 rows x 10 columns]\n",
      "          ID  Netflix  Hulu  Prime Video  Disney+\n",
      "0          1        0     0            1        0\n",
      "1          2        0     1            0        0\n",
      "2          3        0     0            1        0\n",
      "3          4        1     0            0        0\n",
      "4          5        0     0            1        0\n",
      "...      ...      ...   ...          ...      ...\n",
      "16739  16740        0     0            1        0\n",
      "16740  16741        0     0            1        0\n",
      "16741  16742        0     0            1        0\n",
      "16742  16743        0     0            1        0\n",
      "16743  16744        1     0            0        0\n",
      "\n",
      "[16744 rows x 5 columns]\n"
     ]
    }
   ],
   "source": [
    "# Import Pandas\n",
    "\n",
    "import pandas as pd\n",
    "\n",
    "# Read the CSV file & Excel file\n",
    "\n",
    "# Use the pd.read_csv() function & pd.read_excel functions \n",
    "\n",
    "movies = pd.read_excel('movies.xlsx')\n",
    "streaming = pd.read_csv('ott.csv')\n",
    "\n",
    "print(movies)\n",
    "print(streaming)"
   ]
  },
  {
   "cell_type": "code",
   "execution_count": 11,
   "id": "ad0f02d5",
   "metadata": {},
   "outputs": [
    {
     "name": "stdout",
     "output_type": "stream",
     "text": [
      "(16744, 10)\n",
      "Title               object\n",
      "Year                 int64\n",
      "Age                 object\n",
      "IMDb               float64\n",
      "Rotten Tomatoes    float64\n",
      "Directors           object\n",
      "Genres              object\n",
      "Country             object\n",
      "Language            object\n",
      "Runtime            float64\n",
      "dtype: object\n",
      "                            Title  Year  Age  IMDb  Rotten Tomatoes  \\\n",
      "0                       Inception  2010  13+   8.8             0.87   \n",
      "1                      The Matrix  1999  18+   8.7             0.87   \n",
      "2          Avengers: Infinity War  2018  13+   8.5             0.84   \n",
      "3              Back to the Future  1985   7+   8.5             0.96   \n",
      "4  The Good, the Bad and the Ugly  1966  18+   8.8             0.97   \n",
      "\n",
      "                        Directors                            Genres  \\\n",
      "0               Christopher Nolan  Action,Adventure,Sci-Fi,Thriller   \n",
      "1  Lana Wachowski,Lilly Wachowski                     Action,Sci-Fi   \n",
      "2         Anthony Russo,Joe Russo           Action,Adventure,Sci-Fi   \n",
      "3                 Robert Zemeckis           Adventure,Comedy,Sci-Fi   \n",
      "4                    Sergio Leone                           Western   \n",
      "\n",
      "                        Country                 Language  Runtime  \n",
      "0  United States,United Kingdom  English,Japanese,French    148.0  \n",
      "1                 United States                  English    136.0  \n",
      "2                 United States                  English    149.0  \n",
      "3                 United States                  English    116.0  \n",
      "4      Italy,Spain,West Germany                  Italian    161.0  \n",
      "                           Title  Year  Age  IMDb  Rotten Tomatoes  \\\n",
      "16739  The Ghosts of Buxley Hall  1980  NaN   6.2              NaN   \n",
      "16740             The Poof Point  2001   7+   4.7              NaN   \n",
      "16741      Sharks of Lost Island  2013  NaN   5.7              NaN   \n",
      "16742         Man Among Cheetahs  2017  NaN   6.6              NaN   \n",
      "16743           In Beaver Valley  1950  NaN   NaN              NaN   \n",
      "\n",
      "                  Directors                        Genres        Country  \\\n",
      "16739          Bruce Bilson  Comedy,Family,Fantasy,Horror  United States   \n",
      "16740           Neal Israel          Comedy,Family,Sci-Fi  United States   \n",
      "16741          Neil Gelinas                   Documentary  United States   \n",
      "16742  Richard Slater-Jones                   Documentary  United States   \n",
      "16743           James Algar      Documentary,Short,Family  United States   \n",
      "\n",
      "      Language  Runtime  \n",
      "16739  English    120.0  \n",
      "16740  English     90.0  \n",
      "16741  English      NaN  \n",
      "16742  English      NaN  \n",
      "16743  English     32.0  \n"
     ]
    }
   ],
   "source": [
    "# Validate the data - Movies \n",
    "\n",
    "print(movies.shape)\n",
    "print(movies.dtypes)\n",
    "print(movies.head())\n",
    "print(movies.tail())"
   ]
  },
  {
   "cell_type": "code",
   "execution_count": 12,
   "id": "32d2a8da",
   "metadata": {},
   "outputs": [
    {
     "name": "stdout",
     "output_type": "stream",
     "text": [
      "(16744, 5)\n",
      "ID             int64\n",
      "Netflix        int64\n",
      "Hulu           int64\n",
      "Prime Video    int64\n",
      "Disney+        int64\n",
      "dtype: object\n",
      "   ID  Netflix  Hulu  Prime Video  Disney+\n",
      "0   1        0     0            1        0\n",
      "1   2        0     1            0        0\n",
      "2   3        0     0            1        0\n",
      "3   4        1     0            0        0\n",
      "4   5        0     0            1        0\n",
      "          ID  Netflix  Hulu  Prime Video  Disney+\n",
      "16739  16740        0     0            1        0\n",
      "16740  16741        0     0            1        0\n",
      "16741  16742        0     0            1        0\n",
      "16742  16743        0     0            1        0\n",
      "16743  16744        1     0            0        0\n"
     ]
    }
   ],
   "source": [
    "# Validate the data - Streaming \n",
    "\n",
    "print(streaming.shape)\n",
    "print(streaming.dtypes)\n",
    "print(streaming.head())\n",
    "print(streaming.tail())"
   ]
  },
  {
   "cell_type": "code",
   "execution_count": null,
   "id": "aba70a39",
   "metadata": {},
   "outputs": [],
   "source": []
  }
 ],
 "metadata": {
  "kernelspec": {
   "display_name": "Python 3 (ipykernel)",
   "language": "python",
   "name": "python3"
  },
  "language_info": {
   "codemirror_mode": {
    "name": "ipython",
    "version": 3
   },
   "file_extension": ".py",
   "mimetype": "text/x-python",
   "name": "python",
   "nbconvert_exporter": "python",
   "pygments_lexer": "ipython3",
   "version": "3.10.9"
  }
 },
 "nbformat": 4,
 "nbformat_minor": 5
}
