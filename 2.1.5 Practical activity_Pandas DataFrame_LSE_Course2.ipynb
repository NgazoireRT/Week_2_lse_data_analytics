{
 "cells": [
  {
   "cell_type": "markdown",
   "id": "d3723db3",
   "metadata": {},
   "source": [
    "# The hospital where Shen Lee works is going to implement a new database to manage all human resources (HR) information. This includes the personal details of all the staff members across every department as well as annual leave, sick leave, and personal leave. Shen Lee's team will have access to this database for analysis using Python. Therefore, to ensure the data is stored in a way that will enable analysis in the future, Shen Lee is working on the new database configuration. The database tables need to be set up so that the data can be imported into a DataFrame.\n",
    "\n",
    "The following raw data was provided by HR:\n",
    "\n",
    "Staff members and employment units (in brackets): Shen Lee (1), Leon Buhle (0.5), Tracy Adams (0.8), Lebo Sinuka (1.5), Lauren Pierce (1.2), Monika Bond (2), Natahs Allsopp (0.3), Nicholas Winter (1.1), Christopher Eckson (2.2), and Siobhan O’Malley (1.5).\n",
    "Personnel numbers: Shen Lee (215), Leon Buhle (216), Tracy Adams (217), Lebo Sinuka (218), Lauren Pierce (219), Monika Bond (220), Natahs Allsopp (221), Nicholas Winter (222), Christopher Eckson (223), and Siobhan O’Malley (224).\n",
    "Leave per cycle: 10 days sick leave, 20 days annual leave, 5 days personal leave, and 3 days added for one full unit of employment as a bonus.\n",
    "Leave taken in the current cycle (days):\n",
    "Shen Lee: 0 days\n",
    "Leon Buhle: 2 sick, 0 annual leave, 1 personal\n",
    "Tracy Adams: 0 sick, 5 annual leave, 0 personal\n",
    "Lebo Sinuka: 1 sick, 4 annual leave, 5 personal\n",
    "Lauren Pierce: 3 sick, 2 annual leave, 0 personal\n",
    "Monika Bond: 0 sick, 5 annual leave, 3 personal\n",
    "Natahs Allsopp: 1 sick, 10 annual leave, 0 personal\n",
    "Nicholas Winter: 0 sick, 8 annual leave, 1 personal\n",
    "Christopher Eckson: 2 sick, 10 annual leave, 3 personal\n",
    "Siobhan O’Malley: 5 sick, 0 annual leave, 0 personal"
   ]
  },
  {
   "cell_type": "raw",
   "id": "46b71e46",
   "metadata": {},
   "source": [
    "Objective - Creat a DataFrame that captures all the above information"
   ]
  },
  {
   "cell_type": "code",
   "execution_count": 3,
   "id": "a253c78e",
   "metadata": {},
   "outputs": [],
   "source": [
    "# Import Pandas\n",
    "\n",
    "import pandas as pd"
   ]
  },
  {
   "cell_type": "code",
   "execution_count": 16,
   "id": "6b83a4b5",
   "metadata": {},
   "outputs": [
    {
     "name": "stdout",
     "output_type": "stream",
     "text": [
      "                           Name  Annual  Sick  Personal  Bonus\n",
      "Personal_ID                                                   \n",
      "215                    Shen lee      23    10         5      3\n",
      "216                  Leon Buhle      20     8         4      0\n",
      "217                 Tracy Adams      15    10         5      0\n",
      "218                 Lebo Sinuka      19     9         0      3\n",
      "219               Lauren Pierce      21     7         5      3\n",
      "220                 Monika Bond      21    10         2      6\n",
      "221              Natahs Allsopp      10     9         5      0\n",
      "222             Nicholas Winter      15    10         4      3\n",
      "223          Christopher Eckson      16     8         3      6\n",
      "224             Siobhan OMalley      23     5         5      3\n"
     ]
    }
   ],
   "source": [
    "# Create a DataFrame from a dictionary\n",
    "\n",
    "data ={'Name':['Shen lee', 'Leon Buhle', 'Tracy Adams', 'Lebo Sinuka', 'Lauren Pierce','Monika Bond',\n",
    "               'Natahs Allsopp', 'Nicholas Winter', 'Christopher Eckson', 'Siobhan OMalley'],\n",
    "       'Annual': [23,20,15,19,21,21,10,15,16,23],\n",
    "       'Sick': [10,8,10,9,7,10,9,10,8,5],\n",
    "       'Personal': [5,4,5,0,5,2,5,4,3,5],\n",
    "       'Bonus': [3,0,0,3,3,6,0,3,6,3],\n",
    "      'Total leave taken': [0,3,5,10,5,8,11,9,15,5],\n",
    "      'Total leave available': [38,32,30,28,33,33,24,29,26,33],\n",
    "      'Annual Total': [38,35,35,38,38,41,35,38,41,38]}\n",
    "\n",
    "row_labels = [215,216,217,218,219,220,221,222,223,224]\n",
    "leave_cycle = pd.DataFrame(data, columns=['Name','Annual','Sick','Personal','Bonus'],\n",
    "                          index = row_labels)\n",
    "\n",
    "leave_cycle.index.name = 'Personal_ID'\n",
    "\n",
    "print(leave_cycle)"
   ]
  },
  {
   "cell_type": "code",
   "execution_count": 17,
   "id": "56e2c006",
   "metadata": {
    "scrolled": true
   },
   "outputs": [
    {
     "name": "stdout",
     "output_type": "stream",
     "text": [
      "                           Name  Annual  Sick  Personal  Bonus\n",
      "Personal_ID                                                   \n",
      "215                    Shen lee      23    10         5      3\n",
      "216                  Leon Buhle      20     8         4      0\n",
      "217                 Tracy Adams      15    10         5      0\n",
      "218                 Lebo Sinuka      19     9         0      3\n",
      "219               Lauren Pierce      21     7         5      3\n",
      "220                 Monika Bond      21    10         2      6\n",
      "221              Natahs Allsopp      10     9         5      0\n",
      "222             Nicholas Winter      15    10         4      3\n",
      "223          Christopher Eckson      16     8         3      6\n",
      "224             Siobhan OMalley      23     5         5      3\n"
     ]
    }
   ],
   "source": [
    "\n",
    "data ={'Name':['Shen lee', 'Leon Buhle', 'Tracy Adams', 'Lebo Sinuka', 'Lauren Pierce','Monika Bond',\n",
    "               'Natahs Allsopp', 'Nicholas Winter', 'Christopher Eckson', 'Siobhan OMalley'],\n",
    "       'Annual': [23,20,15,19,21,21,10,15,16,23],\n",
    "       'Sick': [10,8,10,9,7,10,9,10,8,5],\n",
    "       'Personal': [5,4,5,0,5,2,5,4,3,5],\n",
    "       'Bonus': [3,0,0,3,3,6,0,3,6,3],\n",
    "      'Total leave taken': [0,3,5,10,5,8,11,9,15,5],\n",
    "      'Total leave available': [38,32,30,28,33,33,24,29,26,33],\n",
    "      'Annual Total': [38,35,35,38,38,41,35,38,41,38]}\n",
    "\n",
    "row_labels = [215,216,217,218,219,220,221,222,223,224]\n",
    "leave_cycle = pd.DataFrame(data, columns=['Name','Annual','Sick','Personal','Bonus'],\n",
    "                          index = row_labels)\n",
    "\n",
    "leave_cycle.index.name = 'Personal_ID'\n",
    "\n",
    "print(leave_cycle)"
   ]
  },
  {
   "cell_type": "code",
   "execution_count": null,
   "id": "48a8036b",
   "metadata": {},
   "outputs": [],
   "source": []
  }
 ],
 "metadata": {
  "kernelspec": {
   "display_name": "Python 3 (ipykernel)",
   "language": "python",
   "name": "python3"
  },
  "language_info": {
   "codemirror_mode": {
    "name": "ipython",
    "version": 3
   },
   "file_extension": ".py",
   "mimetype": "text/x-python",
   "name": "python",
   "nbconvert_exporter": "python",
   "pygments_lexer": "ipython3",
   "version": "3.10.9"
  }
 },
 "nbformat": 4,
 "nbformat_minor": 5
}
